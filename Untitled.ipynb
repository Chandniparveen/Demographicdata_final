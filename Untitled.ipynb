{
 "cells": [
  {
   "cell_type": "markdown",
   "id": "351895cf-c0a8-4a64-bbb6-c920b07564d9",
   "metadata": {},
   "source": [
    "# Demographic Data Analysis"
   ]
  },
  {
   "cell_type": "code",
   "execution_count": 3,
   "id": "b61ff0d1-1230-4f4c-a961-d2bb72bd6144",
   "metadata": {},
   "outputs": [],
   "source": [
    "import pandas as pd"
   ]
  },
  {
   "cell_type": "code",
   "execution_count": 5,
   "id": "58bc694b-b631-4b6c-a8a4-7243125d858e",
   "metadata": {},
   "outputs": [],
   "source": [
    "df = pd.read_csv('adult_data.csv')"
   ]
  },
  {
   "cell_type": "code",
   "execution_count": 17,
   "id": "f6052fde-6b50-41fc-b56d-5f8a48517527",
   "metadata": {},
   "outputs": [
    {
     "data": {
      "text/html": [
       "<div>\n",
       "<style scoped>\n",
       "    .dataframe tbody tr th:only-of-type {\n",
       "        vertical-align: middle;\n",
       "    }\n",
       "\n",
       "    .dataframe tbody tr th {\n",
       "        vertical-align: top;\n",
       "    }\n",
       "\n",
       "    .dataframe thead th {\n",
       "        text-align: right;\n",
       "    }\n",
       "</style>\n",
       "<table border=\"1\" class=\"dataframe\">\n",
       "  <thead>\n",
       "    <tr style=\"text-align: right;\">\n",
       "      <th></th>\n",
       "      <th>age</th>\n",
       "      <th>workclass</th>\n",
       "      <th>fnlwgt</th>\n",
       "      <th>education</th>\n",
       "      <th>education-num</th>\n",
       "      <th>marital-status</th>\n",
       "      <th>occupation</th>\n",
       "      <th>relationship</th>\n",
       "      <th>race</th>\n",
       "      <th>sex</th>\n",
       "      <th>capital-gain</th>\n",
       "      <th>capital-loss</th>\n",
       "      <th>hours-per-week</th>\n",
       "      <th>native-country</th>\n",
       "      <th>salary</th>\n",
       "    </tr>\n",
       "  </thead>\n",
       "  <tbody>\n",
       "    <tr>\n",
       "      <th>0</th>\n",
       "      <td>39</td>\n",
       "      <td>State-gov</td>\n",
       "      <td>77516</td>\n",
       "      <td>Bachelors</td>\n",
       "      <td>13</td>\n",
       "      <td>Never-married</td>\n",
       "      <td>Adm-clerical</td>\n",
       "      <td>Not-in-family</td>\n",
       "      <td>White</td>\n",
       "      <td>Male</td>\n",
       "      <td>2174</td>\n",
       "      <td>0</td>\n",
       "      <td>40</td>\n",
       "      <td>United-States</td>\n",
       "      <td>&lt;=50K</td>\n",
       "    </tr>\n",
       "    <tr>\n",
       "      <th>1</th>\n",
       "      <td>50</td>\n",
       "      <td>Self-emp-not-inc</td>\n",
       "      <td>83311</td>\n",
       "      <td>Bachelors</td>\n",
       "      <td>13</td>\n",
       "      <td>Married-civ-spouse</td>\n",
       "      <td>Exec-managerial</td>\n",
       "      <td>Husband</td>\n",
       "      <td>White</td>\n",
       "      <td>Male</td>\n",
       "      <td>0</td>\n",
       "      <td>0</td>\n",
       "      <td>13</td>\n",
       "      <td>United-States</td>\n",
       "      <td>&lt;=50K</td>\n",
       "    </tr>\n",
       "    <tr>\n",
       "      <th>2</th>\n",
       "      <td>38</td>\n",
       "      <td>Private</td>\n",
       "      <td>215646</td>\n",
       "      <td>HS-grad</td>\n",
       "      <td>9</td>\n",
       "      <td>Divorced</td>\n",
       "      <td>Handlers-cleaners</td>\n",
       "      <td>Not-in-family</td>\n",
       "      <td>White</td>\n",
       "      <td>Male</td>\n",
       "      <td>0</td>\n",
       "      <td>0</td>\n",
       "      <td>40</td>\n",
       "      <td>United-States</td>\n",
       "      <td>&lt;=50K</td>\n",
       "    </tr>\n",
       "    <tr>\n",
       "      <th>3</th>\n",
       "      <td>53</td>\n",
       "      <td>Private</td>\n",
       "      <td>234721</td>\n",
       "      <td>11th</td>\n",
       "      <td>7</td>\n",
       "      <td>Married-civ-spouse</td>\n",
       "      <td>Handlers-cleaners</td>\n",
       "      <td>Husband</td>\n",
       "      <td>Black</td>\n",
       "      <td>Male</td>\n",
       "      <td>0</td>\n",
       "      <td>0</td>\n",
       "      <td>40</td>\n",
       "      <td>United-States</td>\n",
       "      <td>&lt;=50K</td>\n",
       "    </tr>\n",
       "    <tr>\n",
       "      <th>4</th>\n",
       "      <td>28</td>\n",
       "      <td>Private</td>\n",
       "      <td>338409</td>\n",
       "      <td>Bachelors</td>\n",
       "      <td>13</td>\n",
       "      <td>Married-civ-spouse</td>\n",
       "      <td>Prof-specialty</td>\n",
       "      <td>Wife</td>\n",
       "      <td>Black</td>\n",
       "      <td>Female</td>\n",
       "      <td>0</td>\n",
       "      <td>0</td>\n",
       "      <td>40</td>\n",
       "      <td>Cuba</td>\n",
       "      <td>&lt;=50K</td>\n",
       "    </tr>\n",
       "  </tbody>\n",
       "</table>\n",
       "</div>"
      ],
      "text/plain": [
       "   age         workclass  fnlwgt  education  education-num  \\\n",
       "0   39         State-gov   77516  Bachelors             13   \n",
       "1   50  Self-emp-not-inc   83311  Bachelors             13   \n",
       "2   38           Private  215646    HS-grad              9   \n",
       "3   53           Private  234721       11th              7   \n",
       "4   28           Private  338409  Bachelors             13   \n",
       "\n",
       "       marital-status         occupation   relationship   race     sex  \\\n",
       "0       Never-married       Adm-clerical  Not-in-family  White    Male   \n",
       "1  Married-civ-spouse    Exec-managerial        Husband  White    Male   \n",
       "2            Divorced  Handlers-cleaners  Not-in-family  White    Male   \n",
       "3  Married-civ-spouse  Handlers-cleaners        Husband  Black    Male   \n",
       "4  Married-civ-spouse     Prof-specialty           Wife  Black  Female   \n",
       "\n",
       "   capital-gain  capital-loss  hours-per-week native-country salary  \n",
       "0          2174             0              40  United-States  <=50K  \n",
       "1             0             0              13  United-States  <=50K  \n",
       "2             0             0              40  United-States  <=50K  \n",
       "3             0             0              40  United-States  <=50K  \n",
       "4             0             0              40           Cuba  <=50K  "
      ]
     },
     "execution_count": 17,
     "metadata": {},
     "output_type": "execute_result"
    }
   ],
   "source": [
    "df.head()"
   ]
  },
  {
   "cell_type": "markdown",
   "id": "97208392-96b7-45ac-b3ed-ea63c5860931",
   "metadata": {},
   "source": [
    "# 1. How many people of each race are represented in this dataset?"
   ]
  },
  {
   "cell_type": "code",
   "execution_count": 8,
   "id": "20e4c433-9c00-45cf-aa9a-8074c0daa994",
   "metadata": {},
   "outputs": [],
   "source": [
    "rcount=df[\"race\"].value_counts()"
   ]
  },
  {
   "cell_type": "code",
   "execution_count": 9,
   "id": "4f21dbe5-2c4f-439d-9289-c478840cc3b0",
   "metadata": {},
   "outputs": [
    {
     "data": {
      "text/plain": [
       "race\n",
       "White                 27816\n",
       "Black                  3124\n",
       "Asian-Pac-Islander     1039\n",
       "Amer-Indian-Eskimo      311\n",
       "Other                   271\n",
       "Name: count, dtype: int64"
      ]
     },
     "execution_count": 9,
     "metadata": {},
     "output_type": "execute_result"
    }
   ],
   "source": [
    "rcount"
   ]
  },
  {
   "cell_type": "markdown",
   "id": "ba38549f-8fa2-466a-aab1-984f33509b84",
   "metadata": {},
   "source": [
    "# 2. What is the average age of men?"
   ]
  },
  {
   "cell_type": "code",
   "execution_count": 15,
   "id": "60b1941e-63e0-400b-a0ac-a749f44d08ae",
   "metadata": {},
   "outputs": [],
   "source": [
    "average_age_men = df[df['sex'] == 'Male']['age'].mean()"
   ]
  },
  {
   "cell_type": "code",
   "execution_count": 16,
   "id": "c6f2b6aa-f42b-40d2-966e-6d72e1d5ad41",
   "metadata": {},
   "outputs": [
    {
     "data": {
      "text/plain": [
       "39.43354749885268"
      ]
     },
     "execution_count": 16,
     "metadata": {},
     "output_type": "execute_result"
    }
   ],
   "source": [
    "average_age_men"
   ]
  },
  {
   "cell_type": "markdown",
   "id": "973f3194-716a-4693-96a1-65918fa9ceb3",
   "metadata": {},
   "source": [
    "# 3. What is the percentage of people who have a Bachelor’s degree?"
   ]
  },
  {
   "cell_type": "code",
   "execution_count": 18,
   "id": "b7da2a5b-6d70-43f3-8fd6-f5e1a8afddbb",
   "metadata": {},
   "outputs": [],
   "source": [
    "Bdegree=(df[\"education\"]==\"Bachelors\").mean()*100"
   ]
  },
  {
   "cell_type": "code",
   "execution_count": 19,
   "id": "a2662473-407a-4be4-9097-94751a2c518a",
   "metadata": {},
   "outputs": [
    {
     "data": {
      "text/plain": [
       "16.44605509658794"
      ]
     },
     "execution_count": 19,
     "metadata": {},
     "output_type": "execute_result"
    }
   ],
   "source": [
    "Bdegree"
   ]
  },
  {
   "cell_type": "markdown",
   "id": "845d672c-9cce-4852-a542-c1ebcb691d8d",
   "metadata": {},
   "source": [
    "# 4. What percentage of people with advanced education (Bachelors, Masters, or Doctorate) make more than 50K?"
   ]
  },
  {
   "cell_type": "code",
   "execution_count": 20,
   "id": "92987d71-8863-4cdc-90ce-9e3fddd568ad",
   "metadata": {},
   "outputs": [],
   "source": [
    "advanced_education = df['education'].isin(['Bachelors', 'Masters', 'Doctorate'])\n",
    "percentage_advanced_education_rich = (df[advanced_education & (df['salary'] == '>50K')].shape[0] / df[advanced_education].shape[0]) * 100"
   ]
  },
  {
   "cell_type": "code",
   "execution_count": 21,
   "id": "b89be54b-0f70-4ca2-b3ce-b79f5d29fde2",
   "metadata": {},
   "outputs": [
    {
     "data": {
      "text/plain": [
       "46.535843011613935"
      ]
     },
     "execution_count": 21,
     "metadata": {},
     "output_type": "execute_result"
    }
   ],
   "source": [
    "percentage_advanced_education_rich"
   ]
  },
  {
   "cell_type": "markdown",
   "id": "9c544a87-f680-4165-b6d2-4b41f2667677",
   "metadata": {},
   "source": [
    "# 5. What percentage of people without advanced education make more than 50K?"
   ]
  },
  {
   "cell_type": "code",
   "execution_count": 22,
   "id": "b408ed8b-de02-4af2-92b2-0bdacd443089",
   "metadata": {},
   "outputs": [],
   "source": [
    "without_advanced_education = ~df['education'].isin(['Bachelors', 'Masters', 'Doctorate'])\n",
    "percentage_woutadvanced_education = (df[without_advanced_education & (df['salary'] == '>50K')].shape[0] / df[advanced_education].shape[0]) * 100"
   ]
  },
  {
   "cell_type": "code",
   "execution_count": 23,
   "id": "a5ed6e3d-7df7-4b79-8995-22ae45a98e40",
   "metadata": {},
   "outputs": [
    {
     "data": {
      "text/plain": [
       "58.13643038312642"
      ]
     },
     "execution_count": 23,
     "metadata": {},
     "output_type": "execute_result"
    }
   ],
   "source": [
    "percentage_woutadvanced_education"
   ]
  },
  {
   "cell_type": "markdown",
   "id": "e163188c-a3c3-40e3-ab1c-71b90056f76c",
   "metadata": {},
   "source": [
    "# 6. What is the minimum number of hours a person works per week?"
   ]
  },
  {
   "cell_type": "code",
   "execution_count": 24,
   "id": "59d3807e-69db-4b9f-86ab-520cada0b397",
   "metadata": {},
   "outputs": [],
   "source": [
    "minhour=df[\"hours-per-week\"].min()"
   ]
  },
  {
   "cell_type": "code",
   "execution_count": 25,
   "id": "91359df9-d67c-4870-82cf-06e924dcd7bb",
   "metadata": {},
   "outputs": [
    {
     "data": {
      "text/plain": [
       "1"
      ]
     },
     "execution_count": 25,
     "metadata": {},
     "output_type": "execute_result"
    }
   ],
   "source": [
    "minhour"
   ]
  },
  {
   "cell_type": "markdown",
   "id": "cf49e84d-150d-446f-b8e9-c40b12ef0887",
   "metadata": {},
   "source": [
    "# 7. What percentage of the people who work the minimum number of hours per week have a salary of more than 50K?"
   ]
  },
  {
   "cell_type": "code",
   "execution_count": 40,
   "id": "d0d4e557-18bc-4b26-8f98-b44dbcd8f031",
   "metadata": {},
   "outputs": [],
   "source": [
    "minhours=df[\"hours-per-week\"].min()\n",
    "mw=df[df[\"hours-per-week\"]==minhours]\n",
    "percentage=mw[mw[\"salary\"]==\">=50K\"].shape[0]/mw.shape[0]*100"
   ]
  },
  {
   "cell_type": "code",
   "execution_count": 41,
   "id": "2364a83b-860a-4ca5-bfcb-5eaca5271b61",
   "metadata": {},
   "outputs": [
    {
     "data": {
      "text/plain": [
       "0.0"
      ]
     },
     "execution_count": 41,
     "metadata": {},
     "output_type": "execute_result"
    }
   ],
   "source": [
    "percentage"
   ]
  },
  {
   "cell_type": "markdown",
   "id": "46550b6f-9b06-46c3-b332-2e05066669f1",
   "metadata": {},
   "source": [
    "# 8. What country has the highest percentage of people that earn >50K and what is that percentage?"
   ]
  },
  {
   "cell_type": "code",
   "execution_count": 58,
   "id": "45c9244a-4fbe-49a9-990e-5e260208f434",
   "metadata": {},
   "outputs": [],
   "source": [
    "country_salary = df[df['salary'] == '>50K']['native-country'].value_counts() / df['native-country'].value_counts() * 100\n",
    "richcountry= country_salary.idxmax()\n",
    "richcountry_percentage= country_salary.max()"
   ]
  },
  {
   "cell_type": "code",
   "execution_count": 57,
   "id": "714b983d-a790-41ae-96bc-b12d80196d07",
   "metadata": {},
   "outputs": [
    {
     "data": {
      "text/plain": [
       "'Iran'"
      ]
     },
     "execution_count": 57,
     "metadata": {},
     "output_type": "execute_result"
    }
   ],
   "source": [
    "richcountry"
   ]
  },
  {
   "cell_type": "code",
   "execution_count": 59,
   "id": "18af3638-15d1-43ad-9069-025d4eb74541",
   "metadata": {},
   "outputs": [
    {
     "data": {
      "text/plain": [
       "41.86046511627907"
      ]
     },
     "execution_count": 59,
     "metadata": {},
     "output_type": "execute_result"
    }
   ],
   "source": [
    "richcountry_percentage"
   ]
  },
  {
   "cell_type": "markdown",
   "id": "70a09c3d-bfe2-4c36-8004-7de9bc4697f4",
   "metadata": {},
   "source": [
    "# 9. Identify the most popular occupation for those who earn >50K in India."
   ]
  },
  {
   "cell_type": "code",
   "execution_count": 67,
   "id": "a80e38c5-656d-4025-8e73-3d4710b343cd",
   "metadata": {},
   "outputs": [],
   "source": [
    "occ=df[(df[\"salary\"]==\">50K\") & (df[\"native-country\"]==\"India\")][\"occupation\"].value_counts().idxmax()"
   ]
  },
  {
   "cell_type": "code",
   "execution_count": 68,
   "id": "af4ac3c5-c06a-4b6f-a53d-92c550166d0b",
   "metadata": {},
   "outputs": [
    {
     "data": {
      "text/plain": [
       "'Prof-specialty'"
      ]
     },
     "execution_count": 68,
     "metadata": {},
     "output_type": "execute_result"
    }
   ],
   "source": [
    "occ"
   ]
  },
  {
   "cell_type": "code",
   "execution_count": null,
   "id": "188a85b9-639f-49d1-b889-91f3f4fd5a39",
   "metadata": {},
   "outputs": [],
   "source": []
  }
 ],
 "metadata": {
  "kernelspec": {
   "display_name": "Python 3 (ipykernel)",
   "language": "python",
   "name": "python3"
  },
  "language_info": {
   "codemirror_mode": {
    "name": "ipython",
    "version": 3
   },
   "file_extension": ".py",
   "mimetype": "text/x-python",
   "name": "python",
   "nbconvert_exporter": "python",
   "pygments_lexer": "ipython3",
   "version": "3.10.0"
  }
 },
 "nbformat": 4,
 "nbformat_minor": 5
}
